{
 "cells": [
  {
   "cell_type": "markdown",
   "metadata": {},
   "source": [
    "# Example Usage of TextAnalyzer\n",
    "\n",
    "This notebook demonstrates how to use the TextAnalyzer library."
   ]
  },
  {
   "cell_type": "code",
   "execution_count": 14,
   "metadata": {},
   "outputs": [
    {
     "name": "stdout",
     "output_type": "stream",
     "text": [
      "13\n",
      "{'Загальна кількість символів': 80, 'Кількість пробілів': 10, 'Кількість великих літер': 1, 'Кількість малих літер': 67, 'Кількість розділових знаків': 2, 'Кількість слів': 11, 'Кількість речень': 1, 'Середня довжина слова': 6.363636363636363, 'Середня довжина речення': 11.0, 'Кількість унікальних слів': 11, 'Відсоток унікальних слів': 100.0, 'Найчастіші слова': [('Learning', 1), ('never', 1), ('exhausts', 1), ('the', 1), ('mind,', 1)], 'Найчастіші символи': [(' ', 10), ('n', 8), ('i', 8), ('e', 7), ('t', 7)]}\n"
     ]
    }
   ],
   "source": [
    "from text_analyzer import count_characters, count_spaces, count_uppercase, count_lowercase, count_punctuation, character_frequency, word_frequency,count_words, count_sentences, average_word_length, average_sentence_length, count_unique_words, unique_word_percentage, most_common_words,most_common_characters, generate_report\n",
    "\n",
    "text = \"Hello, World!\"\n",
    "text2 = \"Learning never exhausts the mind, but curiosity fuels creativity and innovation.\"\n",
    "\n",
    "analysis = count_characters(text)\n",
    "analysis2 = generate_report(text2)\n",
    "\n",
    "print(analysis)\n",
    "print(analysis2)\n",
    "\n",
    "# count_characters - Підраховує загальну кількість символів у тексті\n",
    "# count_spaces - Підраховує кількість пробілів у тексті\n",
    "# count_uppercase - Підраховує кількість великих літер у тексті\n",
    "# count_lowercase - Підраховує кількість малих літер у тексті\n",
    "# count_punctuation - Підраховує кількість розділових знаків у тексті\n",
    "# character_frequency - Аналізує частоту кожного символу в тексті\n",
    "# word_frequency - Аналізує частоту кожного слова у тексті\n",
    "# count_words - Підраховує кількість слів у тексті\n",
    "# count_sentences - Підраховує кількість речень у тексті\n",
    "# average_word_length - Обчислює середню довжину слова у тексті\n",
    "# average_sentence_length - Обчислює середню кількість слів у реченні\n",
    "# count_unique_words - Підраховує кількість унікальних слів у тексті\n",
    "# unique_word_percentage - Обчислює відсоток унікальних слів у тексті\n",
    "# most_common_words - Визначає n найпоширеніших слів у тексті\n",
    "# most_common_characters - Визначає n найпоширеніших символів у тексті\n",
    "# generate_report - Генерує повний звіт по тексту\n"
   ]
  },
  {
   "cell_type": "code",
   "execution_count": null,
   "metadata": {},
   "outputs": [],
   "source": []
  },
  {
   "cell_type": "code",
   "execution_count": null,
   "metadata": {},
   "outputs": [],
   "source": []
  }
 ],
 "metadata": {
  "kernelspec": {
   "display_name": "Python 3 (ipykernel)",
   "language": "python",
   "name": "python3"
  },
  "language_info": {
   "codemirror_mode": {
    "name": "ipython",
    "version": 3
   },
   "file_extension": ".py",
   "mimetype": "text/x-python",
   "name": "python",
   "nbconvert_exporter": "python",
   "pygments_lexer": "ipython3",
   "version": "3.11.7"
  }
 },
 "nbformat": 4,
 "nbformat_minor": 4
}
